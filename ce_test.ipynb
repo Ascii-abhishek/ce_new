{
 "cells": [
  {
   "cell_type": "code",
   "execution_count": 9,
   "id": "d3d1fc77",
   "metadata": {},
   "outputs": [],
   "source": [
    "from ce_new import *"
   ]
  },
  {
   "cell_type": "code",
   "execution_count": 2,
   "id": "188e17d2",
   "metadata": {},
   "outputs": [
    {
     "data": {
      "text/plain": [
       "Index(['mpn', 'brand', 'entity_id', 'int_pid', 'l3_name', 'attribute_name',\n",
       "       'attribute_value'],\n",
       "      dtype='object')"
      ]
     },
     "execution_count": 2,
     "metadata": {},
     "output_type": "execute_result"
    }
   ],
   "source": [
    "df = ensure_pd_df(\"/home/abhishek/projects/ce_new/data/input/sealmaster_part2_for_cleaning.xlsx\")\n",
    "df.columns = df.columns.str.lower()\n",
    "df.rename(columns={'attribute': 'attribute_name', 'value': 'attribute_value'}, inplace=True, errors='ignore')\n",
    "df.columns"
   ]
  },
  {
   "cell_type": "code",
   "execution_count": 3,
   "id": "12d42cdf",
   "metadata": {},
   "outputs": [
    {
     "name": "stderr",
     "output_type": "stream",
     "text": [
      "2025-06-26 16:27:46,613 - INFO - Creating database engine for source: raptor_catalog\n",
      "2025-06-26 16:27:46,643 - INFO - Creating pandas DataFrame from query: select units, display from hercules_db.ce_unit_mapping, attempt 1\n"
     ]
    }
   ],
   "source": [
    "unit_df = df_from_query(\"select units, display from hercules_db.ce_unit_mapping\")"
   ]
  },
  {
   "cell_type": "code",
   "execution_count": 10,
   "id": "a7922d46",
   "metadata": {},
   "outputs": [
    {
     "name": "stderr",
     "output_type": "stream",
     "text": [
      "2025-06-26 16:58:07,891 - INFO - ▶️ Starting Cleaning Engine Pipeline on 50475 rows.\n",
      "2025-06-26 16:58:07,895 - INFO - Standardized column names to snake_case.\n"
     ]
    },
    {
     "name": "stderr",
     "output_type": "stream",
     "text": [
      "2025-06-26 16:58:07,916 - INFO - Lowercased values in columns: ['l3_name', 'attribute_name'].\n",
      "2025-06-26 16:58:07,917 - INFO - Removing 'rp_' prefix in value columns...\n",
      "2025-06-26 16:58:07,964 - INFO - Initial cleanup complete. Starting sequential cleaners on 50475 rows.\n",
      "2025-06-26 16:58:07,965 - INFO - 1️⃣: clean_varchar_categorical on 50475 rows...\n",
      "2025-06-26 16:58:08,027 - INFO - 26633 rows matched regex; 23842 did not.\n",
      "2025-06-26 16:58:08,294 - INFO - Prepending 'rp_' prefix in value columns...\n",
      "2025-06-26 16:58:08,401 - INFO - Function 'clean_varchar_categorical':\n",
      "2025-06-26 16:58:08,402 - INFO -   - Passed:  26633 rows\n",
      "2025-06-26 16:58:08,403 - INFO -   - For mod:     0 rows\n",
      "2025-06-26 16:58:08,403 - INFO -   - Remaining:  23842 rows\n",
      "2025-06-26 16:58:08,404 - INFO - ----------------------------------------\n",
      "2025-06-26 16:58:08,404 - INFO - 2️⃣: clean_numerical_unit on 23842 rows...\n",
      "2025-06-26 16:58:08,597 - INFO - 19648 rows matched regex; 4194 did not.\n",
      "2025-06-26 16:58:08,799 - INFO - Starting unit standardization on column 'unit1'.\n",
      "2025-06-26 16:58:09,139 - INFO - Unit standardization complete: 19587 valid, 61 invalid.\n",
      "2025-06-26 16:58:09,329 - INFO - Prepending 'rp_' prefix in value columns...\n",
      "2025-06-26 16:58:09,415 - INFO - Prepending 'rp_' prefix in value columns...\n",
      "2025-06-26 16:58:09,418 - INFO - Function 'clean_numerical_unit':\n",
      "2025-06-26 16:58:09,419 - INFO -   - Passed:  19587 rows\n",
      "2025-06-26 16:58:09,419 - INFO -   - For mod:    61 rows\n",
      "2025-06-26 16:58:09,420 - INFO -   - Remaining:   4194 rows\n",
      "2025-06-26 16:58:09,420 - INFO - ----------------------------------------\n",
      "2025-06-26 16:58:09,421 - INFO - 3️⃣: clean_thread on 4194 rows...\n",
      "2025-06-26 16:58:09,425 - INFO - 643 rows hit attribute “thread”; 3551 did not.\n",
      "2025-06-26 16:58:09,464 - INFO - 1268 rows matched regex; 0 did not.\n",
      "2025-06-26 16:58:09,481 - INFO - Starting unit standardization on column 'unit1'.\n",
      "2025-06-26 16:58:09,519 - INFO - Unit standardization complete: 1268 valid, 0 invalid.\n",
      "2025-06-26 16:58:09,529 - INFO - Prepending 'rp_' prefix in value columns...\n",
      "2025-06-26 16:58:09,538 - INFO - Function 'clean_thread':\n",
      "2025-06-26 16:58:09,539 - INFO -   - Passed:   1268 rows\n",
      "2025-06-26 16:58:09,540 - INFO -   - For mod:     0 rows\n",
      "2025-06-26 16:58:09,540 - INFO -   - Remaining:   3551 rows\n",
      "2025-06-26 16:58:09,541 - INFO - ----------------------------------------\n",
      "2025-06-26 16:58:09,541 - INFO - 4️⃣: clean_dimension_values on 3551 rows...\n",
      "2025-06-26 16:58:09,551 - INFO - 0 rows matched regex; 3551 did not.\n",
      "2025-06-26 16:58:09,553 - INFO - Function 'clean_dimension_values':\n",
      "2025-06-26 16:58:09,553 - INFO -   - Passed:      0 rows\n",
      "2025-06-26 16:58:09,554 - INFO -   - For mod:     0 rows\n",
      "2025-06-26 16:58:09,555 - INFO -   - Remaining:   3551 rows\n",
      "2025-06-26 16:58:09,555 - INFO - ----------------------------------------\n",
      "2025-06-26 16:58:09,556 - INFO - 5️⃣: clean_range_with_to_and_hyphen on 3551 rows...\n",
      "2025-06-26 16:58:09,564 - INFO - 1049 rows matched regex; 2502 did not.\n",
      "2025-06-26 16:58:09,580 - INFO - 2098 rows matched regex; 0 did not.\n",
      "2025-06-26 16:58:09,606 - INFO - Starting unit standardization on column 'unit1'.\n",
      "2025-06-26 16:58:09,662 - INFO - Unit standardization complete: 2098 valid, 0 invalid.\n",
      "2025-06-26 16:58:09,840 - INFO - Starting unit standardization on column 'unit1'.\n",
      "2025-06-26 16:58:09,874 - INFO - Unit standardization complete: 1049 valid, 0 invalid.\n",
      "2025-06-26 16:58:09,891 - INFO - Prepending 'rp_' prefix in value columns...\n",
      "2025-06-26 16:58:09,898 - INFO - Function 'clean_range_with_to_and_hyphen':\n",
      "2025-06-26 16:58:09,899 - INFO -   - Passed:   1049 rows\n",
      "2025-06-26 16:58:09,899 - INFO -   - For mod:     0 rows\n",
      "2025-06-26 16:58:09,900 - INFO -   - Remaining:   2502 rows\n",
      "2025-06-26 16:58:09,900 - INFO - ----------------------------------------\n",
      "2025-06-26 16:58:09,901 - INFO - Pipeline finished. 2502 rows could not be processed by any cleaner.\n",
      "2025-06-26 16:58:09,909 - INFO - Saved remaining rows to 'mod/final_remain.csv'.\n",
      "2025-06-26 16:58:09,909 - INFO - ✅ Cleanup pipeline completed successfully.\n"
     ]
    }
   ],
   "source": [
    "run_cleanup_pipeline(raw_df=df, unit_df=unit_df, base_dir=\"/home/abhishek/projects/ce_new/data/output\")"
   ]
  },
  {
   "cell_type": "code",
   "execution_count": 11,
   "id": "cb6fe97d",
   "metadata": {},
   "outputs": [
    {
     "data": {
      "text/plain": [
       "(131625, 6)"
      ]
     },
     "execution_count": 11,
     "metadata": {},
     "output_type": "execute_result"
    }
   ],
   "source": [
    "df.shape"
   ]
  },
  {
   "cell_type": "code",
   "execution_count": null,
   "id": "4fcbd998",
   "metadata": {},
   "outputs": [],
   "source": []
  }
 ],
 "metadata": {
  "kernelspec": {
   "display_name": ".venv",
   "language": "python",
   "name": "python3"
  },
  "language_info": {
   "codemirror_mode": {
    "name": "ipython",
    "version": 3
   },
   "file_extension": ".py",
   "mimetype": "text/x-python",
   "name": "python",
   "nbconvert_exporter": "python",
   "pygments_lexer": "ipython3",
   "version": "3.12.9"
  }
 },
 "nbformat": 4,
 "nbformat_minor": 5
}
