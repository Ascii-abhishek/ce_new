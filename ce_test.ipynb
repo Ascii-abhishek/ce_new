{
 "cells": [
  {
   "cell_type": "code",
   "execution_count": 1,
   "id": "d3d1fc77",
   "metadata": {},
   "outputs": [],
   "source": [
    "from ce_new import *"
   ]
  },
  {
   "cell_type": "code",
   "execution_count": 3,
   "id": "188e17d2",
   "metadata": {},
   "outputs": [
    {
     "data": {
      "text/plain": [
       "Index(['mpn', 'brand', 'entity_id', 'l3_name', 'attribute_name',\n",
       "       'attribute_value'],\n",
       "      dtype='object')"
      ]
     },
     "execution_count": 3,
     "metadata": {},
     "output_type": "execute_result"
    }
   ],
   "source": [
    "df = ensure_pd_df(\"/home/abhishek/projects/ce_new/data/input/micro_100_and_vermont_gage_cleaning.xlsx\")\n",
    "df.columns = df.columns.str.lower()\n",
    "df.columns"
   ]
  },
  {
   "cell_type": "code",
   "execution_count": 4,
   "id": "12d42cdf",
   "metadata": {},
   "outputs": [
    {
     "name": "stderr",
     "output_type": "stream",
     "text": [
      "2025-06-24 17:27:57,776 - INFO - Creating database engine for source: raptor_catalog\n",
      "2025-06-24 17:27:57,834 - INFO - Creating pandas DataFrame from query: select units, display from hercules_db.ce_unit_mapping, attempt 1\n"
     ]
    }
   ],
   "source": [
    "unit_df = df_from_query(\"select units, display from hercules_db.ce_unit_mapping\")"
   ]
  },
  {
   "cell_type": "code",
   "execution_count": 5,
   "id": "a7922d46",
   "metadata": {},
   "outputs": [
    {
     "name": "stderr",
     "output_type": "stream",
     "text": [
      "2025-06-24 17:28:34,073 - INFO - Path /home/abhishek/projects/ce_new/data/output already exists, recreating...\n",
      "2025-06-24 17:28:34,142 - INFO - Final columns list after cleanup: Index(['l3_name', 'attribute_name', 'attribute_value', 'data_type',\n",
      "       'key_value', 'polarity1', 'value1', 'unit1', 'polarity2', 'value2',\n",
      "       'unit2', 'display_value', 'mod_reason'],\n",
      "      dtype='object')\n",
      "2025-06-24 17:28:34,148 - INFO - Lower case and snake case column names...\n",
      "2025-06-24 17:28:34,264 - INFO - Removing rp_ in values...\n",
      "2025-06-24 17:28:34,471 - INFO - Starting clean_varchar_categorical on 131625 rows.\n",
      "2025-06-24 17:28:34,780 - INFO - Finished clean_varchar_categorical: 76777 passed, 54848 remaining.\n",
      "2025-06-24 17:28:34,961 - INFO - Starting clean_numerical_unit on 54848 rows.\n",
      "2025-06-24 17:28:35,216 - INFO - 51212 rows matched regex; 3636 did not.\n",
      "2025-06-24 17:28:35,774 - INFO - Final columns list after cleanup: Index(['l3_name', 'attribute_name', 'attribute_value', 'data_type',\n",
      "       'key_value', 'polarity1', 'value1', 'unit1', 'polarity2', 'value2',\n",
      "       'unit2', 'display_value', 'mod_reason'],\n",
      "      dtype='object')\n",
      "2025-06-24 17:28:35,783 - ERROR - Dataframe is Empty\n",
      "2025-06-24 17:28:35,786 - INFO - Final columns list after cleanup: Index(['l3_name', 'attribute_name', 'attribute_value', 'data_type',\n",
      "       'key_value', 'polarity1', 'value1', 'unit1', 'polarity2', 'value2',\n",
      "       'unit2', 'display_value', 'mod_reason'],\n",
      "      dtype='object')\n",
      "2025-06-24 17:28:35,786 - INFO - Finished clean_numerical_unit: 51212 passed, 0 had errors, 3636 did not match.\n",
      "2025-06-24 17:28:35,989 - INFO - Starting clean_numerical_unit on 860 rows.\n",
      "2025-06-24 17:28:35,993 - INFO - 726 rows matched regex; 134 did not.\n",
      "2025-06-24 17:28:36,004 - INFO - Final columns list after cleanup: Index(['l3_name', 'attribute_name', 'attribute_value', 'data_type',\n",
      "       'key_value', 'polarity1', 'value1', 'unit1', 'polarity2', 'value2',\n",
      "       'unit2', 'display_value', 'mod_reason'],\n",
      "      dtype='object')\n",
      "2025-06-24 17:28:36,004 - ERROR - Dataframe is Empty\n",
      "2025-06-24 17:28:36,005 - INFO - Final columns list after cleanup: Index(['l3_name', 'attribute_name', 'attribute_value', 'data_type',\n",
      "       'key_value', 'polarity1', 'value1', 'unit1', 'polarity2', 'value2',\n",
      "       'unit2', 'display_value', 'mod_reason'],\n",
      "      dtype='object')\n",
      "2025-06-24 17:28:36,006 - INFO - Finished clean_numerical_unit: 726 passed, 0 had errors, 134 did not match.\n",
      "2025-06-24 17:28:36,081 - INFO - Starting unit standardization.\n",
      "2025-06-24 17:28:36,104 - INFO - Unit standardization complete: 363 valid, 0 invalid.\n",
      "2025-06-24 17:28:36,105 - INFO - Starting unit standardization.\n",
      "2025-06-24 17:28:36,132 - INFO - Unit standardization complete: 363 valid, 0 invalid.\n",
      "2025-06-24 17:28:36,138 - INFO - Final columns list after cleanup: Index(['l3_name', 'attribute_name', 'attribute_value', 'data_type',\n",
      "       'key_value', 'polarity1', 'value1', 'unit1', 'polarity2', 'value2',\n",
      "       'unit2', 'display_value', 'mod_reason'],\n",
      "      dtype='object')\n",
      "2025-06-24 17:28:36,139 - ERROR - Dataframe is Empty\n",
      "2025-06-24 17:28:36,140 - INFO - Final columns list after cleanup: Index(['l3_name', 'attribute_name', 'attribute_value', 'data_type',\n",
      "       'key_value', 'polarity1', 'value1', 'unit1', 'polarity2', 'value2',\n",
      "       'unit2', 'display_value', 'mod_reason'],\n",
      "      dtype='object')\n"
     ]
    }
   ],
   "source": [
    "run_cleanup_pipeline(df, unit_df, \"/home/abhishek/projects/ce_new/data/output\")"
   ]
  },
  {
   "cell_type": "code",
   "execution_count": null,
   "id": "cb6fe97d",
   "metadata": {},
   "outputs": [],
   "source": []
  }
 ],
 "metadata": {
  "kernelspec": {
   "display_name": ".venv",
   "language": "python",
   "name": "python3"
  },
  "language_info": {
   "codemirror_mode": {
    "name": "ipython",
    "version": 3
   },
   "file_extension": ".py",
   "mimetype": "text/x-python",
   "name": "python",
   "nbconvert_exporter": "python",
   "pygments_lexer": "ipython3",
   "version": "3.12.9"
  }
 },
 "nbformat": 4,
 "nbformat_minor": 5
}
