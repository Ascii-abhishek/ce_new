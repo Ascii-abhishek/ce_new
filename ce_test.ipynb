{
 "cells": [
  {
   "cell_type": "code",
   "execution_count": 52,
   "id": "d3d1fc77",
   "metadata": {},
   "outputs": [],
   "source": [
    "from ce_new import *"
   ]
  },
  {
   "cell_type": "code",
   "execution_count": 35,
   "id": "188e17d2",
   "metadata": {},
   "outputs": [
    {
     "data": {
      "text/plain": [
       "Index(['mpn', 'brand', 'entity_id', 'int_pid', 'l3_name', 'attribute_name',\n",
       "       'attribute_value'],\n",
       "      dtype='object')"
      ]
     },
     "execution_count": 35,
     "metadata": {},
     "output_type": "execute_result"
    }
   ],
   "source": [
    "df = ensure_pd_df(\"/home/abhishek/projects/ce_new/data/input/sealmaster_part2_for_cleaning.xlsx\")\n",
    "df.columns = df.columns.str.lower()\n",
    "df.rename(columns={'attribute': 'attribute_name', 'value': 'attribute_value'}, inplace=True, errors='ignore')\n",
    "df.columns"
   ]
  },
  {
   "cell_type": "code",
   "execution_count": null,
   "id": "1573737e",
   "metadata": {},
   "outputs": [],
   "source": []
  },
  {
   "cell_type": "code",
   "execution_count": 3,
   "id": "12d42cdf",
   "metadata": {},
   "outputs": [
    {
     "name": "stderr",
     "output_type": "stream",
     "text": [
      "2025-06-25 12:29:22,506 - INFO - Creating database engine for source: raptor_catalog\n"
     ]
    },
    {
     "name": "stderr",
     "output_type": "stream",
     "text": [
      "2025-06-25 12:29:22,551 - INFO - Creating pandas DataFrame from query: select units, display from hercules_db.ce_unit_mapping, attempt 1\n"
     ]
    }
   ],
   "source": [
    "unit_df = df_from_query(\"select units, display from hercules_db.ce_unit_mapping\")"
   ]
  },
  {
   "cell_type": "code",
   "execution_count": 53,
   "id": "a7922d46",
   "metadata": {},
   "outputs": [
    {
     "name": "stderr",
     "output_type": "stream",
     "text": [
      "2025-06-25 16:20:08,333 - INFO - ▶️ Starting Cleaning Engine Pipeline on 50475 rows.\n",
      "2025-06-25 16:20:08,341 - INFO - Standardized column names to snake_case.\n"
     ]
    },
    {
     "name": "stderr",
     "output_type": "stream",
     "text": [
      "2025-06-25 16:20:08,366 - INFO - Lowercased values in columns: ['l3_name', 'attribute_name'].\n",
      "2025-06-25 16:20:08,367 - INFO - Removing 'rp_' prefix in value columns...\n",
      "2025-06-25 16:20:08,426 - INFO - Initial cleanup complete. Starting sequential cleaners on 50475 rows.\n",
      "2025-06-25 16:20:08,427 - INFO - 1️⃣: clean_varchar_categorical on 50475 rows...\n",
      "2025-06-25 16:20:08,494 - INFO - 26633 rows matched regex; 23842 did not.\n",
      "2025-06-25 16:20:08,581 - INFO - Function 'clean_varchar_categorical':\n",
      "2025-06-25 16:20:08,582 - INFO -   - Passed:  26633 rows\n",
      "2025-06-25 16:20:08,582 - INFO -   - For mod:     0 rows\n",
      "2025-06-25 16:20:08,583 - INFO -   - Remaining:  23842 rows\n",
      "2025-06-25 16:20:08,583 - INFO - ----------------------------------------\n",
      "2025-06-25 16:20:08,584 - INFO - 2️⃣: clean_numerical_unit on 23842 rows...\n",
      "2025-06-25 16:20:08,659 - INFO - 19648 rows matched regex; 4194 did not.\n",
      "2025-06-25 16:20:08,863 - INFO - Starting unit standardization on column 'unit1'.\n",
      "2025-06-25 16:20:09,223 - INFO - Unit standardization complete: 19587 valid, 61 invalid.\n",
      "2025-06-25 16:20:09,294 - INFO - Function 'clean_numerical_unit':\n",
      "2025-06-25 16:20:09,294 - INFO -   - Passed:  19587 rows\n",
      "2025-06-25 16:20:09,295 - INFO -   - For mod:    61 rows\n",
      "2025-06-25 16:20:09,296 - INFO -   - Remaining:   4194 rows\n",
      "2025-06-25 16:20:09,297 - INFO - ----------------------------------------\n",
      "2025-06-25 16:20:09,297 - INFO - 3️⃣: clean_thread on 4194 rows...\n",
      "2025-06-25 16:20:09,301 - INFO - 618 rows matched regex; 3576 did not.\n",
      "2025-06-25 16:20:09,304 - INFO - Function 'clean_thread':\n",
      "2025-06-25 16:20:09,305 - INFO -   - Passed:      0 rows\n",
      "2025-06-25 16:20:09,305 - INFO -   - For mod:   618 rows\n",
      "2025-06-25 16:20:09,306 - INFO -   - Remaining:   3576 rows\n",
      "2025-06-25 16:20:09,306 - INFO - ----------------------------------------\n",
      "2025-06-25 16:20:09,306 - INFO - 4️⃣: clean_dimension_values on 3576 rows...\n",
      "2025-06-25 16:20:09,315 - INFO - 0 rows matched regex; 3576 did not.\n",
      "2025-06-25 16:20:09,317 - INFO - Function 'clean_dimension_values':\n",
      "2025-06-25 16:20:09,318 - INFO -   - Passed:      0 rows\n",
      "2025-06-25 16:20:09,319 - INFO -   - For mod:     0 rows\n",
      "2025-06-25 16:20:09,319 - INFO -   - Remaining:   3576 rows\n",
      "2025-06-25 16:20:09,320 - INFO - ----------------------------------------\n",
      "2025-06-25 16:20:09,320 - INFO - 5️⃣: clean_range_with_to_and_hyphen on 3576 rows...\n",
      "2025-06-25 16:20:09,329 - INFO - 2156 rows matched regex; 1420 did not.\n",
      "2025-06-25 16:20:09,347 - INFO - 2228 rows matched regex; 2084 did not.\n",
      "2025-06-25 16:20:09,374 - INFO - Starting unit standardization on column 'unit1'.\n",
      "2025-06-25 16:20:09,450 - INFO - Unit standardization complete: 1964 valid, 264 invalid.\n",
      "2025-06-25 16:20:09,638 - INFO - Starting unit standardization on column 'unit1'.\n",
      "2025-06-25 16:20:09,672 - INFO - Unit standardization complete: 1114 valid, 0 invalid.\n",
      "2025-06-25 16:20:09,682 - INFO - Function 'clean_range_with_to_and_hyphen':\n",
      "2025-06-25 16:20:09,683 - INFO -   - Passed:   1114 rows\n",
      "2025-06-25 16:20:09,684 - INFO -   - For mod:   264 rows\n",
      "2025-06-25 16:20:09,684 - INFO -   - Remaining:   3504 rows\n",
      "2025-06-25 16:20:09,685 - INFO - ----------------------------------------\n",
      "2025-06-25 16:20:09,685 - INFO - Pipeline finished. 3504 rows could not be processed by any cleaner.\n",
      "2025-06-25 16:20:09,695 - INFO - Saved remaining rows to 'mod/final_remain.csv'.\n",
      "2025-06-25 16:20:09,696 - INFO - ✅ Cleanup pipeline completed successfully.\n"
     ]
    }
   ],
   "source": [
    "run_cleanup_pipeline(raw_df=df, unit_df=unit_df, base_dir=\"/home/abhishek/projects/ce_new/data/output\")"
   ]
  },
  {
   "cell_type": "code",
   "execution_count": 11,
   "id": "cb6fe97d",
   "metadata": {},
   "outputs": [
    {
     "data": {
      "text/plain": [
       "(131625, 6)"
      ]
     },
     "execution_count": 11,
     "metadata": {},
     "output_type": "execute_result"
    }
   ],
   "source": [
    "df.shape"
   ]
  },
  {
   "cell_type": "code",
   "execution_count": null,
   "id": "4fcbd998",
   "metadata": {},
   "outputs": [],
   "source": []
  }
 ],
 "metadata": {
  "kernelspec": {
   "display_name": ".venv",
   "language": "python",
   "name": "python3"
  },
  "language_info": {
   "codemirror_mode": {
    "name": "ipython",
    "version": 3
   },
   "file_extension": ".py",
   "mimetype": "text/x-python",
   "name": "python",
   "nbconvert_exporter": "python",
   "pygments_lexer": "ipython3",
   "version": "3.12.9"
  }
 },
 "nbformat": 4,
 "nbformat_minor": 5
}
