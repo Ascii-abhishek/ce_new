{
 "cells": [
  {
   "cell_type": "code",
   "execution_count": 19,
   "id": "d3d1fc77",
   "metadata": {},
   "outputs": [],
   "source": [
    "from ce_new import *"
   ]
  },
  {
   "cell_type": "code",
   "execution_count": 13,
   "id": "188e17d2",
   "metadata": {},
   "outputs": [
    {
     "data": {
      "text/plain": [
       "Index(['mpn', 'brand', 'entity_id', 'int_pid', 'l3_name', 'attribute_name',\n",
       "       'attribute_value'],\n",
       "      dtype='object')"
      ]
     },
     "execution_count": 13,
     "metadata": {},
     "output_type": "execute_result"
    }
   ],
   "source": [
    "df = ensure_pd_df(\"/home/abhishek/projects/ce_new/data/input/sealmaster_part2_for_cleaning.xlsx\")\n",
    "df.columns = df.columns.str.lower()\n",
    "df.rename(columns={'attribute': 'attribute_name', 'value': 'attribute_value'}, inplace=True, errors='ignore')\n",
    "df.columns"
   ]
  },
  {
   "cell_type": "code",
   "execution_count": 14,
   "id": "12d42cdf",
   "metadata": {},
   "outputs": [
    {
     "name": "stderr",
     "output_type": "stream",
     "text": [
      "2025-07-01 17:23:49,881 - INFO - Creating pandas DataFrame from query: select * from hercules_db.ce_unit_mapping, attempt 1\n"
     ]
    }
   ],
   "source": [
    "unit_df = df_from_query(\"select * from hercules_db.ce_unit_mapping\")"
   ]
  },
  {
   "cell_type": "code",
   "execution_count": 20,
   "id": "a7922d46",
   "metadata": {},
   "outputs": [
    {
     "name": "stderr",
     "output_type": "stream",
     "text": [
      "2025-07-01 17:35:57,668 - INFO - ▶️ Starting Cleaning Engine Pipeline on 50475 rows.\n",
      "2025-07-01 17:35:57,671 - INFO - Standardized column names to snake_case.\n"
     ]
    },
    {
     "name": "stderr",
     "output_type": "stream",
     "text": [
      "2025-07-01 17:35:57,693 - INFO - Lowercased values in columns: ['l3_name', 'attribute_name'].\n",
      "2025-07-01 17:35:57,694 - INFO - Removing 'rp_' prefix in value columns...\n",
      "2025-07-01 17:35:57,745 - INFO - Initial cleanup complete. Starting sequential cleaners on 50475 rows.\n",
      "2025-07-01 17:35:57,748 - INFO - 1️⃣: clean_varchar_categorical on 50475 rows...\n",
      "2025-07-01 17:35:57,813 - INFO - 26633 rows matched regex; 23842 did not.\n",
      "2025-07-01 17:35:58,167 - INFO - Function 'clean_varchar_categorical':\n",
      "2025-07-01 17:35:58,168 - INFO -   - Passed:  26633 rows\n",
      "2025-07-01 17:35:58,169 - INFO -   - For mod:     0 rows\n",
      "2025-07-01 17:35:58,169 - INFO -   - Remaining:  23842 rows\n",
      "2025-07-01 17:35:58,169 - INFO - ----------------------------------------\n",
      "2025-07-01 17:35:58,170 - INFO - 2️⃣: clean_numerical_unit on 23842 rows...\n",
      "2025-07-01 17:35:58,287 - INFO - 19648 rows matched regex; 4194 did not.\n",
      "2025-07-01 17:35:58,503 - INFO - Starting unit standardization on column 'unit1'.\n",
      "2025-07-01 17:35:58,853 - INFO - Unit standardization complete: 19587 valid, 61 invalid.\n",
      "2025-07-01 17:36:02,021 - INFO - Function 'clean_numerical_unit':\n",
      "2025-07-01 17:36:02,021 - INFO -   - Passed: 217574 rows\n",
      "2025-07-01 17:36:02,022 - INFO -   - For mod:    61 rows\n",
      "2025-07-01 17:36:02,023 - INFO -   - Remaining:   4194 rows\n",
      "2025-07-01 17:36:02,023 - INFO - ----------------------------------------\n",
      "2025-07-01 17:36:02,023 - INFO - 3️⃣: clean_thread on 4194 rows...\n",
      "2025-07-01 17:36:02,027 - INFO - 643 rows hit attribute “thread”; 3551 did not.\n",
      "2025-07-01 17:36:02,067 - INFO - 1268 rows matched regex; 0 did not.\n",
      "2025-07-01 17:36:02,087 - INFO - Starting unit standardization on column 'unit1'.\n",
      "2025-07-01 17:36:02,127 - INFO - Unit standardization complete: 1268 valid, 0 invalid.\n",
      "2025-07-01 17:36:02,157 - INFO - Function 'clean_thread':\n",
      "2025-07-01 17:36:02,158 - INFO -   - Passed:   1268 rows\n",
      "2025-07-01 17:36:02,158 - INFO -   - For mod:     0 rows\n",
      "2025-07-01 17:36:02,159 - INFO -   - Remaining:   3551 rows\n",
      "2025-07-01 17:36:02,160 - INFO - ----------------------------------------\n",
      "2025-07-01 17:36:02,160 - INFO - 4️⃣: clean_dimension_values on 3551 rows...\n",
      "2025-07-01 17:36:02,169 - INFO - 0 rows matched regex; 3551 did not.\n",
      "2025-07-01 17:36:02,171 - INFO - build_display_values: received empty DataFrame → nothing to do.\n",
      "2025-07-01 17:36:02,172 - INFO - Function 'clean_dimension_values':\n",
      "2025-07-01 17:36:02,172 - INFO -   - Passed:      0 rows\n",
      "2025-07-01 17:36:02,173 - INFO -   - For mod:     0 rows\n",
      "2025-07-01 17:36:02,174 - INFO -   - Remaining:   3551 rows\n",
      "2025-07-01 17:36:02,174 - INFO - ----------------------------------------\n",
      "2025-07-01 17:36:02,175 - INFO - 5️⃣: clean_range_with_to_and_hyphen on 3551 rows...\n",
      "2025-07-01 17:36:02,184 - INFO - 1049 rows matched regex; 2502 did not.\n",
      "2025-07-01 17:36:02,199 - INFO - 2098 rows matched regex; 0 did not.\n",
      "2025-07-01 17:36:02,227 - INFO - Starting unit standardization on column 'unit1'.\n",
      "2025-07-01 17:36:02,277 - INFO - Unit standardization complete: 2098 valid, 0 invalid.\n",
      "2025-07-01 17:36:02,475 - INFO - Starting unit standardization on column 'unit1'.\n",
      "2025-07-01 17:36:02,510 - INFO - Unit standardization complete: 1049 valid, 0 invalid.\n",
      "2025-07-01 17:36:02,799 - INFO - Function 'clean_range_with_to_and_hyphen':\n",
      "2025-07-01 17:36:02,800 - INFO -   - Passed:  14037 rows\n",
      "2025-07-01 17:36:02,800 - INFO -   - For mod:     0 rows\n",
      "2025-07-01 17:36:02,801 - INFO -   - Remaining:   2502 rows\n",
      "2025-07-01 17:36:02,802 - INFO - ----------------------------------------\n",
      "2025-07-01 17:36:02,802 - INFO - Pipeline finished. 2502 rows could not be processed by any cleaner.\n",
      "2025-07-01 17:36:02,811 - INFO - Saved remaining rows to 'mod/final_remain.csv'.\n",
      "2025-07-01 17:36:02,812 - INFO - ✅ Cleanup pipeline completed successfully.\n"
     ]
    }
   ],
   "source": [
    "run_cleanup_pipeline(raw_df=df, unit_df=unit_df, base_dir=\"/home/abhishek/projects/ce_new/data/output\")"
   ]
  },
  {
   "cell_type": "code",
   "execution_count": 11,
   "id": "cb6fe97d",
   "metadata": {},
   "outputs": [
    {
     "data": {
      "text/plain": [
       "(131625, 6)"
      ]
     },
     "execution_count": 11,
     "metadata": {},
     "output_type": "execute_result"
    }
   ],
   "source": [
    "df.shape"
   ]
  },
  {
   "cell_type": "code",
   "execution_count": null,
   "id": "4fcbd998",
   "metadata": {},
   "outputs": [],
   "source": []
  }
 ],
 "metadata": {
  "kernelspec": {
   "display_name": ".venv",
   "language": "python",
   "name": "python3"
  },
  "language_info": {
   "codemirror_mode": {
    "name": "ipython",
    "version": 3
   },
   "file_extension": ".py",
   "mimetype": "text/x-python",
   "name": "python",
   "nbconvert_exporter": "python",
   "pygments_lexer": "ipython3",
   "version": "3.12.9"
  }
 },
 "nbformat": 4,
 "nbformat_minor": 5
}
